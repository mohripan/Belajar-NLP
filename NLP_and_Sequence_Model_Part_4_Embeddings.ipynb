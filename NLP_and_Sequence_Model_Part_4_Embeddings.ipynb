{
  "nbformat": 4,
  "nbformat_minor": 0,
  "metadata": {
    "colab": {
      "provenance": [],
      "authorship_tag": "ABX9TyNbeyX47ju+hOAdvytI34JR",
      "include_colab_link": true
    },
    "kernelspec": {
      "name": "python3",
      "display_name": "Python 3"
    },
    "language_info": {
      "name": "python"
    }
  },
  "cells": [
    {
      "cell_type": "markdown",
      "metadata": {
        "id": "view-in-github",
        "colab_type": "text"
      },
      "source": [
        "<a href=\"https://colab.research.google.com/github/mohripan/Belajar-NLP/blob/main/NLP_and_Sequence_Model_Part_4_Embeddings.ipynb\" target=\"_parent\"><img src=\"https://colab.research.google.com/assets/colab-badge.svg\" alt=\"Open In Colab\"/></a>"
      ]
    },
    {
      "cell_type": "code",
      "execution_count": 1,
      "metadata": {
        "colab": {
          "base_uri": "https://localhost:8080/"
        },
        "id": "s9Q5_Kj4Ybzz",
        "outputId": "821fd82c-c553-4845-b18d-926098f39544"
      },
      "outputs": [
        {
          "output_type": "stream",
          "name": "stdout",
          "text": [
            "--2023-06-11 16:56:25--  https://nlp.stanford.edu/data/glove.42B.300d.zip\n",
            "Resolving nlp.stanford.edu (nlp.stanford.edu)... 171.64.67.140\n",
            "Connecting to nlp.stanford.edu (nlp.stanford.edu)|171.64.67.140|:443... connected.\n",
            "HTTP request sent, awaiting response... 301 Moved Permanently\n",
            "Location: https://downloads.cs.stanford.edu/nlp/data/glove.42B.300d.zip [following]\n",
            "--2023-06-11 16:56:25--  https://downloads.cs.stanford.edu/nlp/data/glove.42B.300d.zip\n",
            "Resolving downloads.cs.stanford.edu (downloads.cs.stanford.edu)... 171.64.64.22\n",
            "Connecting to downloads.cs.stanford.edu (downloads.cs.stanford.edu)|171.64.64.22|:443... connected.\n",
            "HTTP request sent, awaiting response... 200 OK\n",
            "Length: 1877800501 (1.7G) [application/zip]\n",
            "Saving to: ‘glove.42B.300d.zip’\n",
            "\n",
            "glove.42B.300d.zip  100%[===================>]   1.75G  5.00MB/s    in 5m 52s  \n",
            "\n",
            "2023-06-11 17:02:18 (5.08 MB/s) - ‘glove.42B.300d.zip’ saved [1877800501/1877800501]\n",
            "\n"
          ]
        }
      ],
      "source": [
        "!wget https://nlp.stanford.edu/data/glove.42B.300d.zip"
      ]
    },
    {
      "cell_type": "code",
      "source": [
        "!mkdir glove"
      ],
      "metadata": {
        "id": "XNfil0x7YuZm"
      },
      "execution_count": 2,
      "outputs": []
    },
    {
      "cell_type": "code",
      "source": [
        "!unzip -q /content/glove.42B.300d.zip -d glove"
      ],
      "metadata": {
        "id": "BWZ4_KUqY1JS"
      },
      "execution_count": 3,
      "outputs": []
    },
    {
      "cell_type": "code",
      "source": [
        "from gensim.models import Word2Vec"
      ],
      "metadata": {
        "id": "vA1uUgP5aNjh"
      },
      "execution_count": 4,
      "outputs": []
    },
    {
      "cell_type": "code",
      "source": [
        "corpus = [\n",
        "    'text of the first document',\n",
        "    'text of the second text document',\n",
        "    'number three',\n",
        "    'document number four',\n",
        "]\n",
        "\n",
        "corpus = [doc.split() for doc in corpus]\n",
        "\n",
        "model = Word2Vec(corpus, vector_size = 10, window = 2, min_count = 1, sg = 1)\n",
        "\n",
        "print(model.wv['text'])"
      ],
      "metadata": {
        "colab": {
          "base_uri": "https://localhost:8080/"
        },
        "id": "xOdfTkobaSAs",
        "outputId": "bbb30f68-0d7f-4bb5-8cc0-352dd7f273e6"
      },
      "execution_count": 5,
      "outputs": [
        {
          "output_type": "stream",
          "name": "stdout",
          "text": [
            "[ 0.07380505 -0.01533471 -0.04536613  0.06554051 -0.0486016  -0.01816018\n",
            "  0.0287658   0.00991874 -0.08285215 -0.09448818]\n"
          ]
        }
      ]
    },
    {
      "cell_type": "code",
      "source": [
        "import numpy as np"
      ],
      "metadata": {
        "id": "DSzhqvvca2Jw"
      },
      "execution_count": 6,
      "outputs": []
    },
    {
      "cell_type": "code",
      "source": [
        "def load_glove_embeddings(path):\n",
        "  embeddings = {}\n",
        "  with open(path, 'r', encoding = 'utf-8') as file:\n",
        "    for line in file:\n",
        "      values = line.strip().split()\n",
        "      word = values[0]\n",
        "      vector = np.array(values[1:], dtype = 'float32')\n",
        "      embeddings[word] = vector\n",
        "    return embeddings\n",
        "\n",
        "glove_embeddings = load_glove_embeddings('/content/glove/glove.42B.300d.txt')\n",
        "\n",
        "print(glove_embeddings['text'])"
      ],
      "metadata": {
        "colab": {
          "base_uri": "https://localhost:8080/"
        },
        "id": "ZlXIqsYNcGW3",
        "outputId": "d1f6f4e8-7b09-4c6a-a071-a858cfd958f7"
      },
      "execution_count": 7,
      "outputs": [
        {
          "output_type": "stream",
          "name": "stdout",
          "text": [
            "[ 1.5670e-01 -2.2406e-01  1.8370e-01  6.4616e-01  2.8366e-01  5.7250e-01\n",
            " -2.9115e+00  7.4529e-01  2.3426e-03  1.4693e-02 -1.1565e-01  1.7561e-01\n",
            "  3.5424e-01 -2.1065e-02 -2.9127e-01 -1.9452e-01  3.1869e-01  6.2684e-01\n",
            "  4.0918e-02  9.2003e-02 -1.9427e-01 -4.9586e-01  1.4694e-01 -2.7903e-01\n",
            " -7.5842e-02 -8.2243e-01  6.2999e-01 -3.9374e-02 -1.8939e-01 -4.3787e-01\n",
            "  3.7667e-01  9.6839e-03  3.3840e-01  2.2171e-01 -2.6935e-01  5.0523e-02\n",
            "  1.1554e-01 -5.1907e-02  4.2702e-01  3.7942e-01 -1.3508e-01  3.7566e-01\n",
            " -4.2238e-01 -2.4842e-01  4.2722e-01 -3.1349e-01  1.0448e-01 -8.6473e-02\n",
            " -7.2372e-03 -5.7965e-01 -7.2468e-02  2.8465e-01 -3.5662e-01 -1.2014e-01\n",
            "  1.7577e-01  3.7206e-01 -1.6491e-01  3.1192e-01 -6.0786e-01 -1.1540e+00\n",
            "  4.9371e-01 -9.9394e-02  5.0650e-01  1.2165e-01  4.8474e-02  4.3641e-01\n",
            " -7.1655e-01 -2.3858e-01 -1.6920e-01 -2.0122e-02  3.3982e-01 -2.1287e-01\n",
            " -2.1000e-02 -4.8859e-01  1.1695e-01 -1.4504e-01 -2.5419e-01 -4.2225e-02\n",
            "  1.2277e-01 -4.4175e-01 -1.1966e+00 -7.9468e-01  3.2766e-01 -5.2362e-01\n",
            "  7.9277e-03  5.3128e-01  1.8185e-01  8.0263e-01 -4.3719e-02  2.0460e-01\n",
            " -4.7694e-01 -9.4509e-02  6.7697e-01 -3.4100e-01 -4.0415e-01  8.2812e-02\n",
            " -2.5476e+00  4.2300e-01  8.4401e-02 -7.7945e-02 -2.5643e-01  2.4561e-01\n",
            "  5.0872e-03  3.4191e-01  7.4862e-02  5.1920e-01  5.8483e-01  4.8965e-01\n",
            " -4.5052e-03  5.6137e-01 -2.1457e-01  3.4569e-01  5.5177e-01 -2.0747e-02\n",
            " -2.9595e-01  2.6678e-01  3.9535e-01 -1.7098e-01 -2.2165e-01 -9.8814e-02\n",
            "  4.2318e-01  2.9076e-01  4.8602e-01  4.2112e-01  3.5531e-01 -2.1144e-01\n",
            " -2.6739e-01 -4.5029e-01  5.6124e-01  5.5764e-01 -2.3274e-01  1.0328e-01\n",
            " -8.5412e-02  1.3117e-02 -2.4811e-01  1.2640e-01  5.9894e-01  4.0915e-01\n",
            "  8.5953e-02  3.1163e-01  4.8507e-01  6.4995e-01  3.0245e-01  8.9251e-02\n",
            "  2.5997e-01 -2.3884e-01 -8.6635e-02 -1.5460e-01  1.4966e-01  6.0852e-02\n",
            " -2.4437e-01 -7.8580e-02 -3.0764e-01 -2.6958e-01  2.3138e-01 -2.9429e-01\n",
            "  5.4035e-02  2.6195e-01  3.5004e-01  5.1415e-01 -3.2653e-01  1.0580e-01\n",
            " -3.2525e-01 -3.7076e-01  1.6235e-01 -1.9557e-01 -5.6160e-01 -1.2679e-01\n",
            " -1.6254e-01  5.7568e-01  3.2454e-01 -1.8234e-01 -2.1008e-01 -6.9691e-01\n",
            " -3.1004e-01  5.3603e-01 -1.6468e-01 -2.0320e-01  4.2744e-02 -1.6950e-01\n",
            " -6.4449e-01  2.7817e-01 -6.0692e-01 -5.9155e-01  3.1888e-01 -2.4221e-01\n",
            "  4.6613e-01 -3.2876e-01 -2.4785e-02  9.0898e-02  6.8997e-02  4.0094e-01\n",
            " -1.3704e-01  6.7901e-01 -2.4055e-01 -4.0616e-01 -2.8584e-01 -3.0973e-01\n",
            "  3.9270e-02 -4.0769e-01  1.6343e-01 -1.3789e-01 -2.1703e-01 -1.2495e-01\n",
            "  1.6003e-01 -3.8265e-01 -3.8094e-01  2.6982e-01  2.0943e-01 -4.6874e-01\n",
            "  4.2959e-01  2.9053e-01  5.4267e-01  4.7370e-01 -2.9660e-01  4.6590e-02\n",
            " -3.6146e-02 -3.8297e-02 -2.4448e-01 -1.7346e-01 -9.1434e-02 -3.5982e-01\n",
            "  9.0012e-02  2.6341e-01 -1.9878e+00  5.8483e-01  3.6724e-01 -6.8432e-01\n",
            " -6.5472e-01 -9.0536e-02 -2.9627e-01  2.2437e-01 -3.1904e-01 -1.4782e-01\n",
            "  1.2676e-01 -2.6533e-01 -5.3187e-01 -1.6014e-01 -4.4419e-01 -5.4313e-01\n",
            "  3.2103e-01  4.3422e-01 -2.9161e-01 -4.9197e-01 -4.5083e-01 -7.9538e-02\n",
            " -1.1462e-01  4.7563e-01 -7.9900e-02  2.5704e-01  9.1847e-03 -3.0229e-01\n",
            "  8.1024e-02  1.9790e-01 -1.9404e-01  6.1991e-02 -3.1954e-01  6.9161e-01\n",
            " -1.8338e-01 -5.4374e-01 -6.8099e-01  6.5913e-01  9.2890e-02  4.5033e-01\n",
            "  2.8691e-02 -9.5047e-01  5.2851e-02 -3.0242e-01  6.0698e-03 -4.7843e-01\n",
            "  2.1780e-01  3.1610e-01 -1.7906e-01  2.7042e-01 -1.2112e-01  7.0370e-02\n",
            "  6.9722e-03  4.4205e-01 -1.1684e-01  2.6266e-01 -3.4326e-01  4.8750e-01\n",
            " -8.0338e-02  3.9390e-01 -2.1462e-01 -6.6869e-02 -4.6814e-01 -3.3387e-02\n",
            "  2.1006e-01  3.4949e-03 -1.3254e-01  4.9666e-02  6.1690e-01 -2.4183e-02\n",
            "  3.8678e-01  7.3845e-02 -1.3352e-01  2.8554e-01 -2.4997e-01  1.1044e-01]\n"
          ]
        }
      ]
    },
    {
      "cell_type": "code",
      "source": [
        "from sklearn.decomposition import PCA\n",
        "import matplotlib.pyplot as plt"
      ],
      "metadata": {
        "id": "HnfhMPz8ccBt"
      },
      "execution_count": 8,
      "outputs": []
    },
    {
      "cell_type": "code",
      "source": [
        "def plot_embeddings(embeddings, words):\n",
        "  word_vectors = np.array([embeddings[w] for w in words])\n",
        "\n",
        "  pca = PCA(n_components = 2)\n",
        "  principal_components = pca.fit_transform(word_vectors)\n",
        "\n",
        "  plt.scatter(principal_components[:, 0], principal_components[:, 1])\n",
        "\n",
        "  for i, word in enumerate(words):\n",
        "    plt.annotate(word, xy = (principal_components[i, 0], principal_components[i, 1]))\n",
        "  plt.show()\n",
        "\n",
        "words = ['king', 'queen', 'man', 'woman', 'child', 'royal', 'nation', 'monarchy']\n",
        "plot_embeddings(glove_embeddings, words)"
      ],
      "metadata": {
        "colab": {
          "base_uri": "https://localhost:8080/",
          "height": 430
        },
        "id": "4PtytjGGdLX-",
        "outputId": "ac33cf64-e45f-45ae-b676-448cae45ea8c"
      },
      "execution_count": 12,
      "outputs": [
        {
          "output_type": "display_data",
          "data": {
            "text/plain": [
              "<Figure size 640x480 with 1 Axes>"
            ],
            "image/png": "[encoded data removed]"
          },
          "metadata": {}
        }
      ]
    },
    {
      "cell_type": "code",
      "source": [
        "!pip install gdown\n",
        "!gdown https://drive.google.com/uc?id=0B7XkCwpI5KDYNlNUTTlSS21pQmM"
      ],
      "metadata": {
        "colab": {
          "base_uri": "https://localhost:8080/"
        },
        "id": "1TBMFfBveRsh",
        "outputId": "99e9855f-5981-4d45-c3b1-a8cf00230c02"
      },
      "execution_count": 16,
      "outputs": [
        {
          "output_type": "stream",
          "name": "stdout",
          "text": [
            "Looking in indexes: https://pypi.org/simple, https://us-python.pkg.dev/colab-wheels/public/simple/\n",
            "Requirement already satisfied: gdown in /usr/local/lib/python3.10/dist-packages (4.6.6)\n",
            "Requirement already satisfied: filelock in /usr/local/lib/python3.10/dist-packages (from gdown) (3.12.0)\n",
            "Requirement already satisfied: requests[socks] in /usr/local/lib/python3.10/dist-packages (from gdown) (2.27.1)\n",
            "Requirement already satisfied: six in /usr/local/lib/python3.10/dist-packages (from gdown) (1.16.0)\n",
            "Requirement already satisfied: tqdm in /usr/local/lib/python3.10/dist-packages (from gdown) (4.65.0)\n",
            "Requirement already satisfied: beautifulsoup4 in /usr/local/lib/python3.10/dist-packages (from gdown) (4.11.2)\n",
            "Requirement already satisfied: soupsieve>1.2 in /usr/local/lib/python3.10/dist-packages (from beautifulsoup4->gdown) (2.4.1)\n",
            "Requirement already satisfied: urllib3<1.27,>=1.21.1 in /usr/local/lib/python3.10/dist-packages (from requests[socks]->gdown) (1.26.15)\n",
            "Requirement already satisfied: certifi>=2017.4.17 in /usr/local/lib/python3.10/dist-packages (from requests[socks]->gdown) (2022.12.7)\n",
            "Requirement already satisfied: charset-normalizer~=2.0.0 in /usr/local/lib/python3.10/dist-packages (from requests[socks]->gdown) (2.0.12)\n",
            "Requirement already satisfied: idna<4,>=2.5 in /usr/local/lib/python3.10/dist-packages (from requests[socks]->gdown) (3.4)\n",
            "Requirement already satisfied: PySocks!=1.5.7,>=1.5.6 in /usr/local/lib/python3.10/dist-packages (from requests[socks]->gdown) (1.7.1)\n",
            "Downloading...\n",
            "From: https://drive.google.com/uc?id=0B7XkCwpI5KDYNlNUTTlSS21pQmM\n",
            "To: /content/GoogleNews-vectors-negative300.bin.gz\n",
            "100% 1.65G/1.65G [00:20<00:00, 81.6MB/s]\n"
          ]
        }
      ]
    },
    {
      "cell_type": "code",
      "source": [
        "from gensim.models import KeyedVectors"
      ],
      "metadata": {
        "id": "T_FvFRatdrGc"
      },
      "execution_count": 13,
      "outputs": []
    },
    {
      "cell_type": "code",
      "source": [
        "model = KeyedVectors.load_word2vec_format('/content/GoogleNews-vectors-negative300.bin.gz', binary = True)\n",
        "\n",
        "print(model['computer'])\n",
        "\n",
        "print(model.most_similar(positive = ['woman', 'king'], negative = ['man']))\n",
        "\n",
        "print(model.similarity('woman', 'man'))\n",
        "\n",
        "plot_embeddings(model, ['computer', 'laptop', 'camera', 'television'])"
      ],
      "metadata": {
        "colab": {
          "base_uri": "https://localhost:8080/",
          "height": 1000
        },
        "id": "W2IrhICqeS_9",
        "outputId": "ced3364a-14d1-46a3-b117-cba31ee3662b"
      },
      "execution_count": 19,
      "outputs": [
        {
          "output_type": "stream",
          "name": "stdout",
          "text": [
            "[ 1.07421875e-01 -2.01171875e-01  1.23046875e-01  2.11914062e-01\n",
            " -9.13085938e-02  2.16796875e-01 -1.31835938e-01  8.30078125e-02\n",
            "  2.02148438e-01  4.78515625e-02  3.66210938e-02 -2.45361328e-02\n",
            "  2.39257812e-02 -1.60156250e-01 -2.61230469e-02  9.71679688e-02\n",
            " -6.34765625e-02  1.84570312e-01  1.70898438e-01 -1.63085938e-01\n",
            " -1.09375000e-01  1.49414062e-01 -4.65393066e-04  9.61914062e-02\n",
            "  1.68945312e-01  2.60925293e-03  8.93554688e-02  6.49414062e-02\n",
            "  3.56445312e-02 -6.93359375e-02 -1.46484375e-01 -1.21093750e-01\n",
            " -2.27539062e-01  2.45361328e-02 -1.24511719e-01 -3.18359375e-01\n",
            " -2.20703125e-01  1.30859375e-01  3.66210938e-02 -3.63769531e-02\n",
            " -1.13281250e-01  1.95312500e-01  9.76562500e-02  1.26953125e-01\n",
            "  6.59179688e-02  6.93359375e-02  1.02539062e-02  1.75781250e-01\n",
            " -1.68945312e-01  1.21307373e-03 -2.98828125e-01 -1.15234375e-01\n",
            "  5.66406250e-02 -1.77734375e-01 -2.08984375e-01  1.76757812e-01\n",
            "  2.38037109e-02 -2.57812500e-01 -4.46777344e-02  1.88476562e-01\n",
            "  5.51757812e-02  5.02929688e-02 -1.06933594e-01  1.89453125e-01\n",
            " -1.16210938e-01  8.49609375e-02 -1.71875000e-01  2.45117188e-01\n",
            " -1.73828125e-01 -8.30078125e-03  4.56542969e-02 -1.61132812e-02\n",
            "  1.86523438e-01 -6.05468750e-02 -4.17480469e-02  1.82617188e-01\n",
            "  2.20703125e-01 -1.22558594e-01 -2.55126953e-02 -3.08593750e-01\n",
            "  9.13085938e-02  1.60156250e-01  1.70898438e-01  1.19628906e-01\n",
            "  7.08007812e-02 -2.64892578e-02 -3.08837891e-02  4.06250000e-01\n",
            " -1.01562500e-01  5.71289062e-02 -7.26318359e-03 -9.17968750e-02\n",
            " -1.50390625e-01 -2.55859375e-01  2.16796875e-01 -3.63769531e-02\n",
            "  2.24609375e-01  8.00781250e-02  1.56250000e-01  5.27343750e-02\n",
            "  1.50390625e-01 -1.14746094e-01 -8.64257812e-02  1.19140625e-01\n",
            " -7.17773438e-02  2.73437500e-01 -1.64062500e-01  7.29370117e-03\n",
            "  4.21875000e-01 -1.12792969e-01 -1.35742188e-01 -1.31835938e-01\n",
            " -1.37695312e-01 -7.66601562e-02  6.25000000e-02  4.98046875e-02\n",
            " -1.91406250e-01 -6.03027344e-02  2.27539062e-01  5.88378906e-02\n",
            " -3.24218750e-01  5.41992188e-02 -1.35742188e-01  8.17871094e-03\n",
            " -5.24902344e-02 -1.74713135e-03 -9.81445312e-02 -2.86865234e-02\n",
            "  3.61328125e-02  2.15820312e-01  5.98144531e-02 -3.08593750e-01\n",
            " -2.27539062e-01  2.61718750e-01  9.86328125e-02 -5.07812500e-02\n",
            "  1.78222656e-02  1.31835938e-01 -5.35156250e-01 -1.81640625e-01\n",
            "  1.38671875e-01 -3.10546875e-01 -9.71679688e-02  1.31835938e-01\n",
            " -1.16210938e-01  7.03125000e-02  2.85156250e-01  3.51562500e-02\n",
            " -1.01562500e-01 -3.75976562e-02  1.41601562e-01  1.42578125e-01\n",
            " -5.68847656e-02  2.65625000e-01 -2.09960938e-01  9.64355469e-03\n",
            " -6.68945312e-02 -4.83398438e-02 -6.10351562e-02  2.45117188e-01\n",
            " -9.66796875e-02  1.78222656e-02 -1.27929688e-01 -4.78515625e-02\n",
            " -7.26318359e-03  1.79687500e-01  2.78320312e-02 -2.10937500e-01\n",
            " -1.43554688e-01 -1.27929688e-01  1.73339844e-02 -3.60107422e-03\n",
            " -2.04101562e-01  3.63159180e-03 -1.19628906e-01 -6.15234375e-02\n",
            "  5.93261719e-02 -3.23486328e-03 -1.70898438e-01 -3.14941406e-02\n",
            " -8.88671875e-02 -2.89062500e-01  3.44238281e-02 -1.87500000e-01\n",
            "  2.94921875e-01  1.58203125e-01 -1.19628906e-01  7.61718750e-02\n",
            "  6.39648438e-02 -4.68750000e-02 -6.83593750e-02  1.21459961e-02\n",
            " -1.44531250e-01  4.54101562e-02  3.68652344e-02  3.88671875e-01\n",
            "  1.45507812e-01 -2.55859375e-01 -4.46777344e-02 -1.33789062e-01\n",
            " -1.38671875e-01  6.59179688e-02  1.37695312e-01  1.14746094e-01\n",
            "  2.03125000e-01 -4.78515625e-02  1.80664062e-02 -8.54492188e-02\n",
            " -2.48046875e-01 -3.39843750e-01 -2.83203125e-02  1.05468750e-01\n",
            " -2.14843750e-01 -8.74023438e-02  7.12890625e-02  1.87500000e-01\n",
            " -1.12304688e-01  2.73437500e-01 -3.26171875e-01 -1.77734375e-01\n",
            " -4.24804688e-02 -2.69531250e-01  6.64062500e-02 -6.88476562e-02\n",
            " -1.99218750e-01 -7.03125000e-02 -2.43164062e-01 -3.66210938e-02\n",
            " -7.37304688e-02 -1.77734375e-01  9.17968750e-02 -1.25000000e-01\n",
            " -1.65039062e-01 -3.57421875e-01 -2.85156250e-01 -1.66992188e-01\n",
            "  1.97265625e-01 -1.53320312e-01  2.31933594e-02  2.06054688e-01\n",
            "  1.80664062e-01 -2.74658203e-02 -1.92382812e-01 -9.61914062e-02\n",
            " -1.06811523e-02 -4.73632812e-02  6.54296875e-02 -1.25732422e-02\n",
            "  1.78222656e-02 -8.00781250e-02 -2.59765625e-01  9.37500000e-02\n",
            " -7.81250000e-02  4.68750000e-02 -2.22167969e-02  1.86767578e-02\n",
            "  3.11279297e-02  1.04980469e-02 -1.69921875e-01  2.58789062e-02\n",
            " -3.41796875e-02 -1.44042969e-02 -5.46875000e-02 -8.78906250e-02\n",
            "  1.96838379e-03  2.23632812e-01 -1.36718750e-01  1.75781250e-01\n",
            " -1.63085938e-01  1.87500000e-01  3.44238281e-02 -5.63964844e-02\n",
            " -2.27689743e-05  4.27246094e-02  5.81054688e-02 -1.07910156e-01\n",
            " -3.88183594e-02 -2.69531250e-01  3.34472656e-02  9.81445312e-02\n",
            "  5.63964844e-02  2.23632812e-01 -5.49316406e-02  1.46484375e-01\n",
            "  5.93261719e-02 -2.19726562e-01  6.39648438e-02  1.66015625e-02\n",
            "  4.56542969e-02  3.26171875e-01 -3.80859375e-01  1.70898438e-01\n",
            "  5.66406250e-02 -1.04492188e-01  1.38671875e-01 -1.57226562e-01\n",
            "  3.23486328e-03 -4.80957031e-02 -2.48046875e-01 -6.20117188e-02]\n",
            "[('queen', 0.7118193507194519), ('monarch', 0.6189674139022827), ('princess', 0.5902431011199951), ('crown_prince', 0.5499460697174072), ('prince', 0.5377321839332581), ('kings', 0.5236844420433044), ('Queen_Consort', 0.5235945582389832), ('queens', 0.5181134343147278), ('sultan', 0.5098593831062317), ('monarchy', 0.5087411999702454)]\n",
            "0.76640123\n"
          ]
        },
        {
          "output_type": "display_data",
          "data": {
            "text/plain": [
              "<Figure size 640x480 with 1 Axes>"
            ],
            "image/png": "[encoded data removed]"
          },
          "metadata": {}
        }
      ]
    },
    {
      "cell_type": "code",
      "source": [],
      "metadata": {
        "id": "hsgaoZsFfxfO"
      },
      "execution_count": null,
      "outputs": []
    }
  ]
}